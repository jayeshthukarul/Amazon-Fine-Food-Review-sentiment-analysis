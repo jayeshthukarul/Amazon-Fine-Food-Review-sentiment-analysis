{
 "cells": [
  {
   "cell_type": "markdown",
   "metadata": {},
   "source": [
    "# Amazon Fine Food Reviews Analysis\n",
    "\n",
    "\n",
    "Data Source: https://www.kaggle.com/snap/amazon-fine-food-reviews\n",
    "\n",
    "The Amazon Fine Food Reviews dataset consists of reviews of fine foods from Amazon.<br>\n",
    "\n",
    "Number of reviews: 568,454<br>\n",
    "Number of users: 256,059<br>\n",
    "Number of products: 74,258<br>\n",
    "Timespan: Oct 1999 - Oct 2012<br>\n",
    "Number of Attributes/Columns in data: 10 \n",
    "\n",
    "Attribute Information:\n",
    "\n",
    "1. Id\n",
    "2. ProductId - unique identifier for the product\n",
    "3. UserId - unqiue identifier for the user\n",
    "4. ProfileName\n",
    "5. HelpfulnessNumerator - number of users who found the review helpful\n",
    "6. HelpfulnessDenominator - number of users who indicated whether they found the review helpful or not\n",
    "7. Score - rating between 1 and 5\n",
    "8. Time - timestamp for the review\n",
    "9. Summary - brief summary of the review\n",
    "10. Text - text of the review\n",
    "\n",
    "\n",
    "#### Objective:\n",
    "Given a review, determine whether the review is positive (Rating of 4 or 5) or negative (rating of 1 or 2).\n",
    "\n",
    "<br>\n",
    "[Q] How to determine if a review is positive or negative?<br>\n",
    "<br> \n",
    "[Ans] We could use the Score/Rating. A rating of 4 or 5 could be cosnidered a positive review. A review of 1 or 2 could be considered negative. A review of 3 is nuetral and ignored. This is an approximate and proxy way of determining the polarity (positivity/negativity) of a review.\n"
   ]
  },
  {
   "cell_type": "markdown",
   "metadata": {},
   "source": [
    "##  Loading the data\n",
    "\n",
    "The dataset is available in two forms\n",
    "1. .csv file\n",
    "2. SQLite Database\n",
    "\n",
    "In order to load the data, We have used the SQLITE dataset as it easier to query the data and visualise the data efficiently.\n",
    "<br> \n",
    "\n",
    "Here as we only want to get the global sentiment of the recommendations (positive or negative), we will purposefully ignore all Scores equal to 3. If the score id above 3, then the recommendation wil be set to \"positive\". Otherwise, it will be set to \"negative\"."
   ]
  },
  {
   "cell_type": "code",
   "execution_count": 4,
   "metadata": {
    "collapsed": true
   },
   "outputs": [],
   "source": [
    "#TO SUPRESS WARNINGS\n",
    "import warnings\n",
    "warnings.filterwarnings(\"ignore\")"
   ]
  },
  {
   "cell_type": "code",
   "execution_count": 5,
   "metadata": {
    "collapsed": true
   },
   "outputs": [],
   "source": [
    "# This Python 3 environment comes with many helpful analytics libraries installed\n",
    "# It is defined by the kaggle/python docker image: https://github.com/kaggle/docker-python\n",
    "# For example, here's several helpful packages to load in \n",
    "\n",
    "import numpy as np # linear algebra\n",
    "import pandas as pd # data processing, CSV file I/O (e.g. pd.read_csv)\n",
    "\n",
    "# Input data files are available in the \"../input/\" directory.\n",
    "# For example, running this (by clicking run or pressing Shift+Enter) will list the files in the input directory\n",
    "\n",
    "import os\n",
    "#print(os.listdir(\"../input\"))\n",
    "\n",
    "# Any results you write to the current directory are saved as output."
   ]
  },
  {
   "cell_type": "code",
   "execution_count": 1,
   "metadata": {},
   "outputs": [
    {
     "name": "stderr",
     "output_type": "stream",
     "text": [
      "C:\\Users\\JAYESH\\Anaconda3\\lib\\site-packages\\sklearn\\cross_validation.py:41: DeprecationWarning: This module was deprecated in version 0.18 in favor of the model_selection module into which all the refactored classes and functions are moved. Also note that the interface of the new CV iterators are different from that of this module. This module will be removed in 0.20.\n",
      "  \"This module will be removed in 0.20.\", DeprecationWarning)\n"
     ]
    }
   ],
   "source": [
    "%matplotlib inline\n",
    "\n",
    "import re\n",
    "import sqlite3\n",
    "import pandas as pd\n",
    "import numpy as np\n",
    "import nltk\n",
    "import string\n",
    "import matplotlib.pyplot as plt\n",
    "import seaborn as sns\n",
    "from sklearn.feature_extraction.text import TfidfTransformer\n",
    "from sklearn.feature_extraction.text import TfidfVectorizer\n",
    "import pickle\n",
    "from sklearn.feature_extraction.text import CountVectorizer\n",
    "from sklearn.metrics import confusion_matrix\n",
    "from sklearn import metrics\n",
    "from sklearn.metrics import roc_curve, auc\n",
    "from nltk.stem.porter import PorterStemmer\n",
    "from sklearn.metrics import f1_score,classification_report\n",
    "from sklearn.metrics import log_loss, precision_score, recall_score\n",
    "from sklearn import datasets, neighbors\n",
    "from sklearn.cross_validation import train_test_split\n",
    "from sklearn.naive_bayes import BernoulliNB\n",
    "from sklearn.metrics import accuracy_score\n",
    "from sklearn.cross_validation import cross_val_score\n",
    "from collections import Counter\n",
    "from sklearn.metrics import accuracy_score\n",
    "from sklearn.pipeline import make_pipeline\n",
    "from sklearn import cross_validation\n",
    "from sklearn.naive_bayes import MultinomialNB\n",
    "from sklearn.model_selection import TimeSeriesSplit"
   ]
  },
  {
   "cell_type": "code",
   "execution_count": 3,
   "metadata": {
    "collapsed": true
   },
   "outputs": [],
   "source": [
    "# using the SQLite Table to read data.\n",
    "con = sqlite3.connect('database.sqlite') \n",
    "\n",
    "\n",
    "\n",
    "#filtering only positive and negative reviews i.e. \n",
    "# not taking into consideration those reviews with Score=3\n",
    "filtered_data = pd.read_sql_query(\"\"\"\n",
    "SELECT *\n",
    "FROM Reviews\n",
    "WHERE Score != 3\n",
    "\"\"\", con) \n",
    "\n",
    "\n",
    "\n",
    "\n",
    "# Give reviews with Score>3 a positive rating, and reviews with a score<3 a negative rating.\n",
    "def partition(x):\n",
    "    if x < 3:\n",
    "        return 'negative'\n",
    "    return 'positive'\n",
    "\n",
    "#changing reviews with score less than 3 to be positive and vice-versa\n",
    "actualScore = filtered_data['Score']\n",
    "positiveNegative = actualScore.map(partition) \n",
    "filtered_data['Score'] = positiveNegative\n",
    "\n",
    "#  Exploratory Data Analysis\n",
    "\n",
    "## Data Cleaning: Deduplication\n",
    "\n",
    "#It is observed (as shown in the table below) that the reviews data had many duplicate entries. Hence it was necessary to remove duplicates in order to get unbiased results for the analysis of the data.  Following is an example:"
   ]
  },
  {
   "cell_type": "markdown",
   "metadata": {
    "collapsed": true
   },
   "source": [
    "#  Exploratory Data Analysis\n",
    "\n",
    "## Data Cleaning: Deduplication\n",
    "\n",
    "It is observed (as shown in the table below) that the reviews data had many duplicate entries. Hence it was necessary to remove duplicates in order to get unbiased results for the analysis of the data.  Following is an example:"
   ]
  },
  {
   "cell_type": "code",
   "execution_count": 4,
   "metadata": {},
   "outputs": [
    {
     "data": {
      "text/html": [
       "<div>\n",
       "<style scoped>\n",
       "    .dataframe tbody tr th:only-of-type {\n",
       "        vertical-align: middle;\n",
       "    }\n",
       "\n",
       "    .dataframe tbody tr th {\n",
       "        vertical-align: top;\n",
       "    }\n",
       "\n",
       "    .dataframe thead th {\n",
       "        text-align: right;\n",
       "    }\n",
       "</style>\n",
       "<table border=\"1\" class=\"dataframe\">\n",
       "  <thead>\n",
       "    <tr style=\"text-align: right;\">\n",
       "      <th></th>\n",
       "      <th>Id</th>\n",
       "      <th>ProductId</th>\n",
       "      <th>UserId</th>\n",
       "      <th>ProfileName</th>\n",
       "      <th>HelpfulnessNumerator</th>\n",
       "      <th>HelpfulnessDenominator</th>\n",
       "      <th>Score</th>\n",
       "      <th>Time</th>\n",
       "      <th>Summary</th>\n",
       "      <th>Text</th>\n",
       "    </tr>\n",
       "  </thead>\n",
       "  <tbody>\n",
       "    <tr>\n",
       "      <th>0</th>\n",
       "      <td>78445</td>\n",
       "      <td>B000HDL1RQ</td>\n",
       "      <td>AR5J8UI46CURR</td>\n",
       "      <td>Geetha Krishnan</td>\n",
       "      <td>2</td>\n",
       "      <td>2</td>\n",
       "      <td>5</td>\n",
       "      <td>1199577600</td>\n",
       "      <td>LOACKER QUADRATINI VANILLA WAFERS</td>\n",
       "      <td>DELICIOUS WAFERS. I FIND THAT EUROPEAN WAFERS ...</td>\n",
       "    </tr>\n",
       "    <tr>\n",
       "      <th>1</th>\n",
       "      <td>138317</td>\n",
       "      <td>B000HDOPYC</td>\n",
       "      <td>AR5J8UI46CURR</td>\n",
       "      <td>Geetha Krishnan</td>\n",
       "      <td>2</td>\n",
       "      <td>2</td>\n",
       "      <td>5</td>\n",
       "      <td>1199577600</td>\n",
       "      <td>LOACKER QUADRATINI VANILLA WAFERS</td>\n",
       "      <td>DELICIOUS WAFERS. I FIND THAT EUROPEAN WAFERS ...</td>\n",
       "    </tr>\n",
       "    <tr>\n",
       "      <th>2</th>\n",
       "      <td>138277</td>\n",
       "      <td>B000HDOPYM</td>\n",
       "      <td>AR5J8UI46CURR</td>\n",
       "      <td>Geetha Krishnan</td>\n",
       "      <td>2</td>\n",
       "      <td>2</td>\n",
       "      <td>5</td>\n",
       "      <td>1199577600</td>\n",
       "      <td>LOACKER QUADRATINI VANILLA WAFERS</td>\n",
       "      <td>DELICIOUS WAFERS. I FIND THAT EUROPEAN WAFERS ...</td>\n",
       "    </tr>\n",
       "    <tr>\n",
       "      <th>3</th>\n",
       "      <td>73791</td>\n",
       "      <td>B000HDOPZG</td>\n",
       "      <td>AR5J8UI46CURR</td>\n",
       "      <td>Geetha Krishnan</td>\n",
       "      <td>2</td>\n",
       "      <td>2</td>\n",
       "      <td>5</td>\n",
       "      <td>1199577600</td>\n",
       "      <td>LOACKER QUADRATINI VANILLA WAFERS</td>\n",
       "      <td>DELICIOUS WAFERS. I FIND THAT EUROPEAN WAFERS ...</td>\n",
       "    </tr>\n",
       "    <tr>\n",
       "      <th>4</th>\n",
       "      <td>155049</td>\n",
       "      <td>B000PAQ75C</td>\n",
       "      <td>AR5J8UI46CURR</td>\n",
       "      <td>Geetha Krishnan</td>\n",
       "      <td>2</td>\n",
       "      <td>2</td>\n",
       "      <td>5</td>\n",
       "      <td>1199577600</td>\n",
       "      <td>LOACKER QUADRATINI VANILLA WAFERS</td>\n",
       "      <td>DELICIOUS WAFERS. I FIND THAT EUROPEAN WAFERS ...</td>\n",
       "    </tr>\n",
       "  </tbody>\n",
       "</table>\n",
       "</div>"
      ],
      "text/plain": [
       "       Id   ProductId         UserId      ProfileName  HelpfulnessNumerator  \\\n",
       "0   78445  B000HDL1RQ  AR5J8UI46CURR  Geetha Krishnan                     2   \n",
       "1  138317  B000HDOPYC  AR5J8UI46CURR  Geetha Krishnan                     2   \n",
       "2  138277  B000HDOPYM  AR5J8UI46CURR  Geetha Krishnan                     2   \n",
       "3   73791  B000HDOPZG  AR5J8UI46CURR  Geetha Krishnan                     2   \n",
       "4  155049  B000PAQ75C  AR5J8UI46CURR  Geetha Krishnan                     2   \n",
       "\n",
       "   HelpfulnessDenominator  Score        Time  \\\n",
       "0                       2      5  1199577600   \n",
       "1                       2      5  1199577600   \n",
       "2                       2      5  1199577600   \n",
       "3                       2      5  1199577600   \n",
       "4                       2      5  1199577600   \n",
       "\n",
       "                             Summary  \\\n",
       "0  LOACKER QUADRATINI VANILLA WAFERS   \n",
       "1  LOACKER QUADRATINI VANILLA WAFERS   \n",
       "2  LOACKER QUADRATINI VANILLA WAFERS   \n",
       "3  LOACKER QUADRATINI VANILLA WAFERS   \n",
       "4  LOACKER QUADRATINI VANILLA WAFERS   \n",
       "\n",
       "                                                Text  \n",
       "0  DELICIOUS WAFERS. I FIND THAT EUROPEAN WAFERS ...  \n",
       "1  DELICIOUS WAFERS. I FIND THAT EUROPEAN WAFERS ...  \n",
       "2  DELICIOUS WAFERS. I FIND THAT EUROPEAN WAFERS ...  \n",
       "3  DELICIOUS WAFERS. I FIND THAT EUROPEAN WAFERS ...  \n",
       "4  DELICIOUS WAFERS. I FIND THAT EUROPEAN WAFERS ...  "
      ]
     },
     "execution_count": 4,
     "metadata": {},
     "output_type": "execute_result"
    }
   ],
   "source": [
    "display= pd.read_sql_query(\"\"\"\n",
    "SELECT *\n",
    "FROM Reviews\n",
    "WHERE Score != 3 AND UserId=\"AR5J8UI46CURR\"\n",
    "ORDER BY ProductID\n",
    "\"\"\", con)\n",
    "display"
   ]
  },
  {
   "cell_type": "markdown",
   "metadata": {},
   "source": [
    "As can be seen above the same user has multiple reviews of the with the same values for HelpfulnessNumerator, HelpfulnessDenominator, Score, Time, Summary and Text  and on doing analysis it was found that <br>\n",
    "<br> \n",
    "ProductId=B000HDOPZG was Loacker Quadratini Vanilla Wafer Cookies, 8.82-Ounce Packages (Pack of 8)<br>\n",
    "<br> \n",
    "ProductId=B000HDL1RQ was Loacker Quadratini Lemon Wafer Cookies, 8.82-Ounce Packages (Pack of 8) and so on<br>\n",
    "\n",
    "It was inferred after analysis that reviews with same parameters other than ProductId belonged to the same product just having different flavour or quantity. Hence in order to reduce redundancy it was decided to eliminate the rows having same parameters.<br>\n",
    "\n",
    "The method used for the same was that we first sort the data according to ProductId and then just keep the first similar product review and delelte the others. for eg. in the above just the review for ProductId=B000HDL1RQ remains. This method ensures that there is only one representative for each product and deduplication without sorting would lead to possibility of different representatives still existing for the same product."
   ]
  },
  {
   "cell_type": "code",
   "execution_count": 5,
   "metadata": {
    "collapsed": true
   },
   "outputs": [],
   "source": [
    "#Sorting data according to ProductId in ascending order\n",
    "sorted_data=filtered_data.sort_values('ProductId', axis=0, ascending=True, inplace=False, kind='quicksort', na_position='last')"
   ]
  },
  {
   "cell_type": "code",
   "execution_count": 6,
   "metadata": {},
   "outputs": [
    {
     "data": {
      "text/plain": [
       "(364173, 10)"
      ]
     },
     "execution_count": 6,
     "metadata": {},
     "output_type": "execute_result"
    }
   ],
   "source": [
    "#Deduplication of entries\n",
    "final=sorted_data.drop_duplicates(subset={\"UserId\",\"ProfileName\",\"Time\",\"Text\"}, keep='first', inplace=False)\n",
    "final.shape"
   ]
  },
  {
   "cell_type": "code",
   "execution_count": 7,
   "metadata": {},
   "outputs": [
    {
     "data": {
      "text/plain": [
       "69.25890143662969"
      ]
     },
     "execution_count": 7,
     "metadata": {},
     "output_type": "execute_result"
    }
   ],
   "source": [
    "#Checking to see how much % of data still remains\n",
    "(final['Id'].size*1.0)/(filtered_data['Id'].size*1.0)*100"
   ]
  },
  {
   "cell_type": "markdown",
   "metadata": {},
   "source": [
    "<b>Observation:-</b> It was also seen that in two rows given below the value of HelpfulnessNumerator is greater than HelpfulnessDenominator which is not practically possible hence these two rows too are removed from calcualtions"
   ]
  },
  {
   "cell_type": "code",
   "execution_count": 8,
   "metadata": {},
   "outputs": [
    {
     "data": {
      "text/html": [
       "<div>\n",
       "<style scoped>\n",
       "    .dataframe tbody tr th:only-of-type {\n",
       "        vertical-align: middle;\n",
       "    }\n",
       "\n",
       "    .dataframe tbody tr th {\n",
       "        vertical-align: top;\n",
       "    }\n",
       "\n",
       "    .dataframe thead th {\n",
       "        text-align: right;\n",
       "    }\n",
       "</style>\n",
       "<table border=\"1\" class=\"dataframe\">\n",
       "  <thead>\n",
       "    <tr style=\"text-align: right;\">\n",
       "      <th></th>\n",
       "      <th>Id</th>\n",
       "      <th>ProductId</th>\n",
       "      <th>UserId</th>\n",
       "      <th>ProfileName</th>\n",
       "      <th>HelpfulnessNumerator</th>\n",
       "      <th>HelpfulnessDenominator</th>\n",
       "      <th>Score</th>\n",
       "      <th>Time</th>\n",
       "      <th>Summary</th>\n",
       "      <th>Text</th>\n",
       "    </tr>\n",
       "  </thead>\n",
       "  <tbody>\n",
       "    <tr>\n",
       "      <th>0</th>\n",
       "      <td>64422</td>\n",
       "      <td>B000MIDROQ</td>\n",
       "      <td>A161DK06JJMCYF</td>\n",
       "      <td>J. E. Stephens \"Jeanne\"</td>\n",
       "      <td>3</td>\n",
       "      <td>1</td>\n",
       "      <td>5</td>\n",
       "      <td>1224892800</td>\n",
       "      <td>Bought This for My Son at College</td>\n",
       "      <td>My son loves spaghetti so I didn't hesitate or...</td>\n",
       "    </tr>\n",
       "    <tr>\n",
       "      <th>1</th>\n",
       "      <td>44737</td>\n",
       "      <td>B001EQ55RW</td>\n",
       "      <td>A2V0I904FH7ABY</td>\n",
       "      <td>Ram</td>\n",
       "      <td>3</td>\n",
       "      <td>2</td>\n",
       "      <td>4</td>\n",
       "      <td>1212883200</td>\n",
       "      <td>Pure cocoa taste with crunchy almonds inside</td>\n",
       "      <td>It was almost a 'love at first bite' - the per...</td>\n",
       "    </tr>\n",
       "  </tbody>\n",
       "</table>\n",
       "</div>"
      ],
      "text/plain": [
       "      Id   ProductId          UserId              ProfileName  \\\n",
       "0  64422  B000MIDROQ  A161DK06JJMCYF  J. E. Stephens \"Jeanne\"   \n",
       "1  44737  B001EQ55RW  A2V0I904FH7ABY                      Ram   \n",
       "\n",
       "   HelpfulnessNumerator  HelpfulnessDenominator  Score        Time  \\\n",
       "0                     3                       1      5  1224892800   \n",
       "1                     3                       2      4  1212883200   \n",
       "\n",
       "                                        Summary  \\\n",
       "0             Bought This for My Son at College   \n",
       "1  Pure cocoa taste with crunchy almonds inside   \n",
       "\n",
       "                                                Text  \n",
       "0  My son loves spaghetti so I didn't hesitate or...  \n",
       "1  It was almost a 'love at first bite' - the per...  "
      ]
     },
     "execution_count": 8,
     "metadata": {},
     "output_type": "execute_result"
    }
   ],
   "source": [
    "display= pd.read_sql_query(\"\"\"\n",
    "SELECT *\n",
    "FROM Reviews\n",
    "WHERE Score != 3 AND Id=44737 OR Id=64422\n",
    "ORDER BY ProductID\n",
    "\"\"\", con)\n",
    "display"
   ]
  },
  {
   "cell_type": "code",
   "execution_count": 9,
   "metadata": {
    "collapsed": true
   },
   "outputs": [],
   "source": [
    "final=final[final.HelpfulnessNumerator<=final.HelpfulnessDenominator]"
   ]
  },
  {
   "cell_type": "code",
   "execution_count": 10,
   "metadata": {},
   "outputs": [
    {
     "name": "stdout",
     "output_type": "stream",
     "text": [
      "(364171, 10)\n"
     ]
    },
    {
     "data": {
      "text/plain": [
       "positive    307061\n",
       "negative     57110\n",
       "Name: Score, dtype: int64"
      ]
     },
     "execution_count": 10,
     "metadata": {},
     "output_type": "execute_result"
    }
   ],
   "source": [
    "#Before starting the next phase of preprocessing lets see the number of entries left\n",
    "print(final.shape)\n",
    "\n",
    "#How many positive and negative reviews are present in our dataset?\n",
    "final['Score'].value_counts()"
   ]
  },
  {
   "cell_type": "markdown",
   "metadata": {},
   "source": [
    "## 7.2.3  Text Preprocessing: Stemming, stop-word removal and Lemmatization.\n",
    "\n",
    "Now that we have finished deduplication our data requires some preprocessing before we go on further with analysis and making the prediction model.\n",
    "\n",
    "Hence in the Preprocessing phase we do the following in the order below:-\n",
    "\n",
    "1. Begin by removing the html tags\n",
    "2. Remove any punctuations or limited set of special characters like , or . or # etc.\n",
    "3. Check if the word is made up of english letters and is not alpha-numeric\n",
    "4. Check to see if the length of the word is greater than 2 (as it was researched that there is no adjective in 2-letters)\n",
    "5. Convert the word to lowercase\n",
    "7. Finally Lemmatization as it gives better result than stemming<br>\n",
    "\n",
    "After which we collect the words used to describe positive and negative reviews"
   ]
  },
  {
   "cell_type": "code",
   "execution_count": 11,
   "metadata": {},
   "outputs": [
    {
     "name": "stdout",
     "output_type": "stream",
     "text": [
      "6\n",
      "I set aside at least an hour each day to read to my son (3 y/o). At this point, I consider myself a connoisseur of children's books and this is one of the best. Santa Clause put this under the tree. Since then, we've read it perpetually and he loves it.<br /><br />First, this book taught him the months of the year.<br /><br />Second, it's a pleasure to read. Well suited to 1.5 y/o old to 4+.<br /><br />Very few children's books are worth owning. Most should be borrowed from the library. This book, however, deserves a permanent spot on your shelf. Sendak's best.\n"
     ]
    }
   ],
   "source": [
    "# find sentences containing HTML tags\n",
    "i=0;\n",
    "for sent in final['Text'].values:\n",
    "    if (len(re.findall('<.*?>', sent))):\n",
    "        print(i)\n",
    "        print(sent)\n",
    "        break;\n",
    "    i += 1;    "
   ]
  },
  {
   "cell_type": "code",
   "execution_count": 12,
   "metadata": {
    "collapsed": true
   },
   "outputs": [],
   "source": [
    "\n",
    "import string\n",
    "from nltk.corpus import stopwords\n",
    "from nltk.stem import PorterStemmer\n",
    "from nltk.stem.wordnet import WordNetLemmatizer\n",
    "\n",
    "stop = set(stopwords.words('english')) #set of stopwords\n",
    "sno = nltk.stem.SnowballStemmer('english') #initialising the snowball stemmer\n",
    "\n",
    "def cleanhtml(sentence): #function to clean the word of any html-tags\n",
    "    cleanr = re.compile('<.*?>')\n",
    "    cleantext = re.sub(cleanr, ' ', sentence)\n",
    "    return cleantext\n",
    "def cleanpunc(sentence): #function to clean the word of any punctuation or special characters\n",
    "    cleaned = re.sub(r'[?|!|\\'|\"|#]',r'',sentence)\n",
    "    cleaned = re.sub(r'[.|,|)|(|\\|/]',r' ',cleaned)\n",
    "    return  cleaned"
   ]
  },
  {
   "cell_type": "code",
   "execution_count": null,
   "metadata": {
    "collapsed": true
   },
   "outputs": [],
   "source": [
    "#Code for implementing step-by-step the checks mentioned in the pre-processing phase\n",
    "# this code takes a while to run as it needs to run on 500k sentences.\n",
    "i=0\n",
    "str1=' '\n",
    "final_string=[]\n",
    "all_positive_words=[] # store words from +ve reviews here\n",
    "all_negative_words=[] # store words from -ve reviews here.\n",
    "s=''\n",
    "for sent in data['Text'].values:\n",
    "    filtered_sentence=[]\n",
    "    #print(sent);\n",
    "    sent=cleanhtml(sent) # remove HTMl tags\n",
    "    for w in sent.split():\n",
    "        for cleaned_words in cleanpunc(w).split():\n",
    "            if((cleaned_words.isalpha()) & (len(cleaned_words)>2)):    \n",
    "      \n",
    "                    s=(wnl.lemmatize(cleaned_words.lower())).encode('utf8')\n",
    "                    filtered_sentence.append(s)\n",
    "                    if (data['Score'].values)[i] == 'positive': \n",
    "                        all_positive_words.append(s) #list of all words used to describe positive reviews\n",
    "                    if(data['Score'].values)[i] == 'negative':\n",
    "                        all_negative_words.append(s) #list of all words used to describe negative reviews reviews\n",
    "              \n",
    "            else:\n",
    "                continue \n",
    "    #print(filtered_sentence)\n",
    "    str1 = b\" \".join(filtered_sentence) #final string of cleaned words\n",
    "    #print(\"***********************************************************************\")\n",
    "    \n",
    "    final_string.append(str1)\n",
    "    i+=1"
   ]
  },
  {
   "cell_type": "code",
   "execution_count": null,
   "metadata": {
    "collapsed": true
   },
   "outputs": [],
   "source": [
    "final['CleanedTextMe']=final_string "
   ]
  },
  {
   "cell_type": "code",
   "execution_count": null,
   "metadata": {
    "collapsed": true
   },
   "outputs": [],
   "source": [
    "\n",
    "#SAVING PREPROCESSED DATA IN PICKLE FILE FOR LATER USE\n",
    "final.to_pickle('amazon_food_review_after_preprocess_v2')"
   ]
  },
  {
   "cell_type": "code",
   "execution_count": 7,
   "metadata": {
    "collapsed": true
   },
   "outputs": [],
   "source": [
    "data  = pd.read_pickle(\"amazon_food_review_after_preprocess_v2\")"
   ]
  },
  {
   "cell_type": "markdown",
   "metadata": {},
   "source": []
  },
  {
   "cell_type": "markdown",
   "metadata": {},
   "source": [
    "# BAG OF WORDS"
   ]
  },
  {
   "cell_type": "markdown",
   "metadata": {},
   "source": [
    "Using <b> Bi-Gram </b>. We can make use of group of words to get better results. Sometimes sequence of words might have different effect on the prediction. Sequences like \"not good\" or \"not bad\" affect the prediction in way different than when used individually."
   ]
  },
  {
   "cell_type": "code",
   "execution_count": null,
   "metadata": {
    "collapsed": true
   },
   "outputs": [],
   "source": []
  },
  {
   "cell_type": "code",
   "execution_count": 8,
   "metadata": {
    "collapsed": true
   },
   "outputs": [],
   "source": [
    "CleanedTextMe = data['CleanedTextMe']"
   ]
  },
  {
   "cell_type": "code",
   "execution_count": 9,
   "metadata": {
    "collapsed": true
   },
   "outputs": [],
   "source": [
    "polarity = data['Score']"
   ]
  },
  {
   "cell_type": "code",
   "execution_count": 10,
   "metadata": {
    "collapsed": true
   },
   "outputs": [],
   "source": [
    "#SPLITTING(TIME BASED SPLIT) TRAIN AND TEST DATA \n",
    "x_train = CleanedTextMe.iloc[:254920]\n",
    "x_test = CleanedTextMe.iloc[254920:]\n",
    "y_train = polarity.iloc[:254920]\n",
    "y_test = polarity.iloc[254920:]"
   ]
  },
  {
   "cell_type": "code",
   "execution_count": 34,
   "metadata": {
    "collapsed": true
   },
   "outputs": [],
   "source": [
    "#TRAINING VECTORIZER ON TRAIN DATA\n",
    "count_vect = CountVectorizer(ngram_range=(1,2)) #scikit-learn countevectorizer (bi-gram)\n",
    "final_counts = count_vect.fit_transform(x_train.values)"
   ]
  },
  {
   "cell_type": "code",
   "execution_count": 35,
   "metadata": {},
   "outputs": [
    {
     "data": {
      "text/plain": [
       "<254920x2294007 sparse matrix of type '<class 'numpy.int64'>'\n",
       "\twith 25680663 stored elements in Compressed Sparse Row format>"
      ]
     },
     "execution_count": 35,
     "metadata": {},
     "output_type": "execute_result"
    }
   ],
   "source": [
    "final_counts"
   ]
  },
  {
   "cell_type": "code",
   "execution_count": 36,
   "metadata": {
    "collapsed": true
   },
   "outputs": [],
   "source": [
    "#STORING VOCABULARY\n",
    "cnt_vect_feat = count_vect.get_feature_names()"
   ]
  },
  {
   "cell_type": "code",
   "execution_count": 37,
   "metadata": {
    "collapsed": true
   },
   "outputs": [],
   "source": [
    "#TRAINING VECTORIZER ON TEST DATA USING VECTORS OBTAINED FROM TRAIN DATA\n",
    "count_vect_test = CountVectorizer(ngram_range=(1,2),vocabulary=cnt_vect_feat) #scikit-learn countevectorizer\n",
    "final_counts_test = count_vect_test.transform(x_test.values)"
   ]
  },
  {
   "cell_type": "code",
   "execution_count": 38,
   "metadata": {},
   "outputs": [
    {
     "data": {
      "text/plain": [
       "<109251x2294007 sparse matrix of type '<class 'numpy.int64'>'\n",
       "\twith 10556699 stored elements in Compressed Sparse Row format>"
      ]
     },
     "execution_count": 38,
     "metadata": {},
     "output_type": "execute_result"
    }
   ],
   "source": [
    "final_counts_test"
   ]
  },
  {
   "cell_type": "code",
   "execution_count": 12,
   "metadata": {
    "collapsed": true
   },
   "outputs": [],
   "source": [
    "tscv_data = TimeSeriesSplit(n_splits=10)"
   ]
  },
  {
   "cell_type": "code",
   "execution_count": 13,
   "metadata": {
    "collapsed": true
   },
   "outputs": [],
   "source": [
    "alpha = list(np.arange(0.01,1,0.01))"
   ]
  },
  {
   "cell_type": "code",
   "execution_count": 14,
   "metadata": {
    "collapsed": true
   },
   "outputs": [],
   "source": [
    "cv_scores= []"
   ]
  },
  {
   "cell_type": "markdown",
   "metadata": {},
   "source": [
    "# 1. BINOMIAL NAIVE BAYES"
   ]
  },
  {
   "cell_type": "code",
   "execution_count": null,
   "metadata": {
    "collapsed": true
   },
   "outputs": [],
   "source": [
    "for a in alpha:\n",
    "    clf = BernoulliNB(alpha=a)\n",
    "    cv_score_temp = []\n",
    "    #print(\"alpha:\",a)\n",
    "    for train_index, test_index in tscv_data.split(final_counts):\n",
    "        \n",
    "        #print(\"TRAIN:\", train_index, \"TEST:\", test_index)\n",
    "        X_train, X_test = final_counts[train_index], final_counts[test_index]\n",
    "        #print(X_train,\":\",X_test)\n",
    "        Y_train, Y_test = y_train.iloc[train_index], y_train.iloc[test_index]\n",
    "        clf.fit(X_train, Y_train)\n",
    "        prd = clf.predict(X_test)\n",
    "        acc = accuracy_score(Y_test, prd, normalize=True)\n",
    "        cv_score_temp.append(acc)\n",
    "        \n",
    "    tmp = np.asarray(cv_score_temp)\n",
    "    avg = np.sum(tmp)/10\n",
    "    #print(\"acc:\",avg)\n",
    "    cv_scores.append(avg)"
   ]
  },
  {
   "cell_type": "code",
   "execution_count": null,
   "metadata": {
    "collapsed": true
   },
   "outputs": [],
   "source": [
    "cv_scr_df = pd.DataFrame(cv_scores)\n",
    "cv_scr_df.to_pickle(\"cv_score_NB_BOW_2\")"
   ]
  },
  {
   "cell_type": "code",
   "execution_count": 13,
   "metadata": {
    "collapsed": true
   },
   "outputs": [],
   "source": [
    "cv_scr_tmp = pd.read_pickle(\"cv_score_NB_BOW_2\")"
   ]
  },
  {
   "cell_type": "code",
   "execution_count": 14,
   "metadata": {
    "collapsed": true
   },
   "outputs": [],
   "source": [
    "cv_scores = cv_scr_tmp[0].tolist()"
   ]
  },
  {
   "cell_type": "code",
   "execution_count": 15,
   "metadata": {},
   "outputs": [
    {
     "name": "stdout",
     "output_type": "stream",
     "text": [
      "\n",
      "The optimal number of neighbors is 0.010000.\n"
     ]
    },
    {
     "data": {
      "image/png": "[encoded data removed]",
      "text/plain": [
       "<matplotlib.figure.Figure at 0x1b282ebf898>"
      ]
     },
     "metadata": {},
     "output_type": "display_data"
    },
    {
     "name": "stdout",
     "output_type": "stream",
     "text": [
      "the misclassification error for each alpha value is :  [0.093 0.1   0.105 0.11  0.114 0.116 0.119 0.121 0.123 0.125 0.126 0.128\n",
      " 0.129 0.13  0.131 0.132 0.133 0.135 0.136 0.136 0.137 0.138 0.139 0.139\n",
      " 0.14  0.141 0.141 0.142 0.142 0.143 0.143 0.144 0.144 0.145 0.145 0.146\n",
      " 0.146 0.146 0.146 0.147 0.147 0.147 0.148 0.148 0.148 0.149 0.149 0.149\n",
      " 0.149 0.149 0.15  0.15  0.15  0.15  0.15  0.151 0.151 0.151 0.151 0.152\n",
      " 0.152 0.152 0.152 0.152 0.152 0.152 0.152 0.153 0.153 0.153 0.153 0.153\n",
      " 0.153 0.153 0.153 0.153 0.153 0.153 0.154 0.154 0.154 0.154 0.154 0.154\n",
      " 0.154 0.154 0.154 0.154 0.154 0.154 0.154 0.154 0.154 0.154 0.154 0.154\n",
      " 0.155 0.155 0.155]\n"
     ]
    }
   ],
   "source": [
    "#Misclassification error for each alpha\n",
    "MSE = [1 - x for x in cv_scores]\n",
    "\n",
    "#find optimal alpha for which misclassification error is low\n",
    "optimal_alpha = alpha[MSE.index(min(MSE))]\n",
    "print('\\nThe optimal number of neighbors is %f.' % optimal_alpha)\n",
    "\n",
    "\n",
    "plt.plot(alpha, MSE)\n",
    "\n",
    "for xy in zip(alpha, np.round(MSE,3)):\n",
    "    plt.annotate('(%s, %s)' % xy, xy=xy, textcoords='data')\n",
    "\n",
    "plt.xlabel('Number of alpha a')\n",
    "plt.ylabel('Misclassification Error')\n",
    "plt.show()\n",
    "\n",
    "print(\"the misclassification error for each alpha value is : \", np.round(MSE,3))"
   ]
  },
  {
   "cell_type": "code",
   "execution_count": 29,
   "metadata": {
    "collapsed": true
   },
   "outputs": [],
   "source": [
    "# ------------ Naive Bayes with optimal ALPHA--------------###\n",
    "optimal_nb = BernoulliNB(alpha=optimal_alpha)\n",
    "lp = optimal_nb.fit(final_counts, y_train)\n",
    "prd = optimal_nb.predict(final_counts_test)"
   ]
  },
  {
   "cell_type": "code",
   "execution_count": 30,
   "metadata": {},
   "outputs": [
    {
     "name": "stdout",
     "output_type": "stream",
     "text": [
      "\n",
      "The accuracy of the NB IS: 91.46460901959708\n"
     ]
    }
   ],
   "source": [
    "acc = accuracy_score(y_test, prd) * 100\n",
    "print('\\nThe accuracy of the NB IS:' , acc)"
   ]
  },
  {
   "cell_type": "code",
   "execution_count": 20,
   "metadata": {},
   "outputs": [
    {
     "name": "stdout",
     "output_type": "stream",
     "text": [
      "             precision    recall  f1-score   support\n",
      "\n",
      "   negative       0.86      0.61      0.71     19081\n",
      "   positive       0.92      0.98      0.95     90170\n",
      "\n",
      "avg / total       0.91      0.91      0.91    109251\n",
      "\n"
     ]
    }
   ],
   "source": [
    "print(classification_report(y_test,prd))"
   ]
  },
  {
   "cell_type": "markdown",
   "metadata": {},
   "source": [
    " <b>Confusion Matrix</b>"
   ]
  },
  {
   "cell_type": "code",
   "execution_count": 22,
   "metadata": {
    "collapsed": true
   },
   "outputs": [],
   "source": [
    "#y_test_np= np.asarray(y_test)\n",
    "mat = confusion_matrix(y_test,prd)\n",
    "tn, fp, fn, tp = confusion_matrix(y_test,prd).ravel()"
   ]
  },
  {
   "cell_type": "code",
   "execution_count": 53,
   "metadata": {},
   "outputs": [
    {
     "data": {
      "image/png": "[encoded data removed]",
      "text/plain": [
       "<matplotlib.figure.Figure at 0x22f24deaba8>"
      ]
     },
     "metadata": {},
     "output_type": "display_data"
    }
   ],
   "source": [
    "sns.heatmap(mat.T, square=True, annot=True, fmt='d', cbar=True,cmap='RdYlBu_r',\n",
    "            xticklabels=['negative','positive'], yticklabels=['negative','positive'])\n",
    "plt.title(\"confusion Matrix\")\n",
    "plt.xlabel('true label')\n",
    "plt.ylabel('predicted label');"
   ]
  },
  {
   "cell_type": "code",
   "execution_count": 24,
   "metadata": {},
   "outputs": [
    {
     "name": "stdout",
     "output_type": "stream",
     "text": [
      "11564 7517 1808 88362\n"
     ]
    }
   ],
   "source": [
    "print(tn, fp, fn, tp)"
   ]
  },
  {
   "cell_type": "code",
   "execution_count": 25,
   "metadata": {},
   "outputs": [
    {
     "name": "stdout",
     "output_type": "stream",
     "text": [
      "True positive rate: 92.15990988641934\n",
      "False positive rate: 7.840090113580659\n",
      "True negative rate: 86.47921029015853\n",
      "False negative rate: 13.520789709841461\n"
     ]
    }
   ],
   "source": [
    "print(\"True positive rate:\",(tp/(tp+fp))*100)\n",
    "print(\"False positive rate:\",(fp/(tp+fp))*100)\n",
    "print(\"True negative rate:\",(tn/(tn+fn))*100)\n",
    "print(\"False negative rate:\",(fn/(tn+fn))*100)\n"
   ]
  },
  {
   "cell_type": "markdown",
   "metadata": {},
   "source": [
    "## <b> List of top 10 words that are differ in positive and negative reviews."
   ]
  },
  {
   "cell_type": "markdown",
   "metadata": {},
   "source": [
    "1. Words which separate Positive reviews from negative reviews"
   ]
  },
  {
   "cell_type": "code",
   "execution_count": 26,
   "metadata": {},
   "outputs": [
    {
     "name": "stdout",
     "output_type": "stream",
     "text": [
      "('try youll', 8.780353739480454)\n",
      "('only negative', 8.59100504340498)\n",
      "('only drawback', 8.561251766047736)\n",
      "('go great', 8.534040128203003)\n",
      "('become favorite', 8.187183481494863)\n",
      "('more soon', 8.187183481494863)\n",
      "('rebecca review', 8.126866724092494)\n",
      "('definitely ordering', 8.111201425412819)\n",
      "('recommend highly', 8.084534600729889)\n",
      "('thanks much', 8.04596445154772)\n"
     ]
    }
   ],
   "source": [
    "import operator\n",
    "diff = optimal_nb.feature_log_prob_[1,:] - optimal_nb.feature_log_prob_[0,:]\n",
    "name_diff = {}\n",
    "for i in range(len(cnt_vect_feat)):\n",
    "    name_diff[cnt_vect_feat[i]] = diff[i]\n",
    "names_diff_sorted = sorted(name_diff.items(), key = operator.itemgetter(1), reverse = True)\n",
    "for i in range(10):\n",
    "    print(names_diff_sorted[i])"
   ]
  },
  {
   "cell_type": "markdown",
   "metadata": {},
   "source": [
    "2. Words helps to separate Negative reviews from Positive reviews"
   ]
  },
  {
   "cell_type": "code",
   "execution_count": 27,
   "metadata": {},
   "outputs": [
    {
     "name": "stdout",
     "output_type": "stream",
     "text": [
      "('have listened', 9.872870247936907)\n",
      "('stuff terrible', 9.747746308370079)\n",
      "('terrible product', 9.67877723818982)\n",
      "('again nor', 9.604696728378364)\n",
      "('negative star', 9.604696728378364)\n",
      "('worst product', 9.604696728378364)\n",
      "('stuff awful', 9.565491393807331)\n",
      "('this disgusting', 9.524686059150966)\n",
      "('worst one', 9.391214163774713)\n",
      "('refund this', 9.342447797513445)\n"
     ]
    }
   ],
   "source": [
    "import operator\n",
    "diff = optimal_nb.feature_log_prob_[0,:] - optimal_nb.feature_log_prob_[1,:]\n",
    "name_diff = {}\n",
    "for i in range(len(cnt_vect_feat)):\n",
    "    name_diff[cnt_vect_feat[i]] = diff[i]\n",
    "names_diff_sorted = sorted(name_diff.items(), key = operator.itemgetter(1), reverse = True)\n",
    "for i in range(10):\n",
    "    print(names_diff_sorted[i])"
   ]
  },
  {
   "cell_type": "markdown",
   "metadata": {},
   "source": [
    "# 2. MULTINOMIAL NAIVE BAYES"
   ]
  },
  {
   "cell_type": "code",
   "execution_count": null,
   "metadata": {
    "collapsed": true
   },
   "outputs": [],
   "source": [
    "for a in alpha:\n",
    "    clf = MultinomialNB(alpha=a)\n",
    "    cv_score_temp = []\n",
    "    #print(\"alpha:\",a)\n",
    "    for train_index, test_index in tscv_data.split(final_counts):\n",
    "        \n",
    "        #print(\"TRAIN:\", train_index, \"TEST:\", test_index)\n",
    "        X_train, X_test = final_counts[train_index], final_counts[test_index]\n",
    "        #print(X_train,\":\",X_test)\n",
    "        Y_train, Y_test = y_train.iloc[train_index], y_train.iloc[test_index]\n",
    "        clf.fit(X_train, Y_train)\n",
    "        prd = clf.predict(X_test)\n",
    "        acc = accuracy_score(Y_test, prd, normalize=True)\n",
    "        cv_score_temp.append(acc)\n",
    "        \n",
    "    tmp = np.asarray(cv_score_temp)\n",
    "    avg = np.sum(tmp)/10\n",
    "    #print(\"acc:\",avg)\n",
    "    cv_scores.append(avg)"
   ]
  },
  {
   "cell_type": "code",
   "execution_count": 15,
   "metadata": {
    "collapsed": true
   },
   "outputs": [],
   "source": [
    "cv_scr_df = pd.DataFrame(cv_scores)\n",
    "cv_scr_df.to_pickle(\"cv_score_NB_BOW_2\")"
   ]
  },
  {
   "cell_type": "code",
   "execution_count": 22,
   "metadata": {
    "collapsed": true
   },
   "outputs": [],
   "source": [
    "cv_scr_tmp = pd.read_pickle(\"cv_score_NB_BOW\")"
   ]
  },
  {
   "cell_type": "code",
   "execution_count": 24,
   "metadata": {
    "collapsed": true
   },
   "outputs": [],
   "source": [
    "cv_scores = cv_scr_tmp[0].tolist()"
   ]
  },
  {
   "cell_type": "code",
   "execution_count": 25,
   "metadata": {},
   "outputs": [
    {
     "name": "stdout",
     "output_type": "stream",
     "text": [
      "\n",
      "The optimal number of neighbors is 0.010000.\n"
     ]
    },
    {
     "data": {
      "image/png": "[encoded data removed]",
      "text/plain": [
       "<matplotlib.figure.Figure at 0x28dc61c0550>"
      ]
     },
     "metadata": {},
     "output_type": "display_data"
    },
    {
     "name": "stdout",
     "output_type": "stream",
     "text": [
      "the misclassification error for each alpha value is :  [0.115 0.116 0.117 0.118 0.118 0.118 0.119 0.119 0.119 0.12  0.12  0.12\n",
      " 0.121 0.121 0.121 0.122 0.122 0.122 0.122 0.122 0.123 0.123 0.123 0.123\n",
      " 0.123 0.124 0.124 0.124 0.124 0.125 0.125 0.125 0.125 0.125 0.126 0.126\n",
      " 0.126 0.126 0.126 0.126 0.127 0.127 0.127 0.127 0.127 0.127 0.127 0.127\n",
      " 0.128 0.128 0.128 0.128 0.128 0.128 0.128 0.128 0.129 0.129 0.129 0.129\n",
      " 0.129 0.129 0.13  0.13  0.13  0.13  0.13  0.13  0.13  0.13  0.131 0.131\n",
      " 0.131 0.131 0.131 0.131 0.131 0.131 0.131 0.131 0.131 0.132 0.132 0.132\n",
      " 0.132 0.132 0.132 0.132 0.132 0.132 0.132 0.133 0.133 0.133 0.133 0.133\n",
      " 0.133 0.133 0.133]\n"
     ]
    }
   ],
   "source": [
    "#Misclassification error for each alpha\n",
    "MSE = [1 - x for x in cv_scores]\n",
    "\n",
    "#find optimal alpha for which misclassification error is low\n",
    "optimal_alpha = alpha[MSE.index(min(MSE))]\n",
    "print('\\nThe optimal number of neighbors is %f.' % optimal_alpha)\n",
    "\n",
    "\n",
    "plt.plot(alpha, MSE)\n",
    "\n",
    "for xy in zip(alpha, np.round(MSE,3)):\n",
    "    plt.annotate('(%s, %s)' % xy, xy=xy, textcoords='data')\n",
    "\n",
    "plt.xlabel('Number of alpha a')\n",
    "plt.ylabel('Misclassification Error')\n",
    "plt.show()\n",
    "\n",
    "print(\"the misclassification error for each alpha value is : \", np.round(MSE,3))"
   ]
  },
  {
   "cell_type": "code",
   "execution_count": 26,
   "metadata": {
    "collapsed": true
   },
   "outputs": [],
   "source": [
    "# ------------ Naive Bayes with optimal ALPHA--------------###\n",
    "optimal_nb = MultinomialNB(alpha=optimal_alpha)\n",
    "lp = optimal_nb.fit(final_counts, y_train)\n",
    "prd = optimal_nb.predict(final_counts_test)"
   ]
  },
  {
   "cell_type": "code",
   "execution_count": 27,
   "metadata": {},
   "outputs": [
    {
     "name": "stdout",
     "output_type": "stream",
     "text": [
      "\n",
      "The accuracy of the NB IS: 91.692524553551\n"
     ]
    }
   ],
   "source": [
    "acc = accuracy_score(y_test, prd) * 100\n",
    "print('\\nThe accuracy of the NB IS:' , acc)"
   ]
  },
  {
   "cell_type": "code",
   "execution_count": 28,
   "metadata": {},
   "outputs": [
    {
     "name": "stdout",
     "output_type": "stream",
     "text": [
      "             precision    recall  f1-score   support\n",
      "\n",
      "   negative       0.83      0.66      0.74     19081\n",
      "   positive       0.93      0.97      0.95     90170\n",
      "\n",
      "avg / total       0.91      0.92      0.91    109251\n",
      "\n"
     ]
    }
   ],
   "source": [
    "print(classification_report(y_test,prd))"
   ]
  },
  {
   "cell_type": "markdown",
   "metadata": {},
   "source": [
    "<b>Confusion Matrix</b>"
   ]
  },
  {
   "cell_type": "code",
   "execution_count": 29,
   "metadata": {
    "collapsed": true
   },
   "outputs": [],
   "source": [
    "#y_test_np= np.asarray(y_test)\n",
    "mat = confusion_matrix(y_test,prd)\n",
    "tn, fp, fn, tp = confusion_matrix(y_test,prd).ravel()"
   ]
  },
  {
   "cell_type": "code",
   "execution_count": 30,
   "metadata": {},
   "outputs": [
    {
     "data": {
      "image/png": "[encoded data removed]",
      "text/plain": [
       "<matplotlib.figure.Figure at 0x28dd45128d0>"
      ]
     },
     "metadata": {},
     "output_type": "display_data"
    }
   ],
   "source": [
    "sns.heatmap(mat.T, square=True, annot=True, fmt='d', cbar=True,cmap='RdYlBu_r',\n",
    "            xticklabels=['negative','positive'], yticklabels=['negative','positive'])\n",
    "plt.title(\"confusion Matrix\")\n",
    "plt.xlabel('true label')\n",
    "plt.ylabel('predicted label');"
   ]
  },
  {
   "cell_type": "code",
   "execution_count": 31,
   "metadata": {},
   "outputs": [
    {
     "name": "stdout",
     "output_type": "stream",
     "text": [
      "True positive rate: 93.1240959754956\n",
      "False positive rate: 6.875904024504381\n",
      "True negative rate: 82.85282721481579\n",
      "False negative rate: 17.14717278518421\n"
     ]
    }
   ],
   "source": [
    "print(\"True positive rate:\",(tp/(tp+fp))*100)\n",
    "print(\"False positive rate:\",(fp/(tp+fp))*100)\n",
    "print(\"True negative rate:\",(tn/(tn+fn))*100)\n",
    "print(\"False negative rate:\",(fn/(tn+fn))*100)\n"
   ]
  },
  {
   "cell_type": "markdown",
   "metadata": {},
   "source": [
    "# <b> List of top 10 words that are differ in positive and negative reviews."
   ]
  },
  {
   "cell_type": "markdown",
   "metadata": {},
   "source": [
    "1. Words which separate Positive reviews from negative reviews"
   ]
  },
  {
   "cell_type": "code",
   "execution_count": 32,
   "metadata": {},
   "outputs": [
    {
     "name": "stdout",
     "output_type": "stream",
     "text": [
      "('try youll', 8.889211097594707)\n",
      "('only negative', 8.699862401519233)\n",
      "('only drawback', 8.67010912416199)\n",
      "('go great', 8.646339712014854)\n",
      "('become favorite', 8.296040839609116)\n",
      "('more soon', 8.296040839609116)\n",
      "('rebecca review', 8.235724082206747)\n",
      "('definitely ordering', 8.225307863869675)\n",
      "('recommend highly', 8.193391958844142)\n",
      "('thanks much', 8.160423751374731)\n"
     ]
    }
   ],
   "source": [
    "import operator\n",
    "diff = optimal_nb.feature_log_prob_[1,:] - optimal_nb.feature_log_prob_[0,:]\n",
    "name_diff = {}\n",
    "for i in range(len(cnt_vect_feat)):\n",
    "    name_diff[cnt_vect_feat[i]] = diff[i]\n",
    "names_diff_sorted = sorted(name_diff.items(), key = operator.itemgetter(1), reverse = True)\n",
    "for i in range(10):\n",
    "    print(names_diff_sorted[i])"
   ]
  },
  {
   "cell_type": "markdown",
   "metadata": {},
   "source": [
    "2. Words helps to separate Negative reviews from Positive reviews"
   ]
  },
  {
   "cell_type": "code",
   "execution_count": 33,
   "metadata": {},
   "outputs": [
    {
     "name": "stdout",
     "output_type": "stream",
     "text": [
      "('have listened', 9.764012889822652)\n",
      "('stuff terrible', 9.638888950255824)\n",
      "('terrible product', 9.569919880075567)\n",
      "('negative star', 9.533565458608074)\n",
      "('again nor', 9.49583937026411)\n",
      "('worst product', 9.49583937026411)\n",
      "('stuff awful', 9.456634035693076)\n",
      "('this disgusting', 9.41582870103671)\n",
      "('worst one', 9.282356805660458)\n",
      "('refund this', 9.23359043939919)\n"
     ]
    }
   ],
   "source": [
    "import operator\n",
    "diff = optimal_nb.feature_log_prob_[0,:] - optimal_nb.feature_log_prob_[1,:]\n",
    "name_diff = {}\n",
    "for i in range(len(cnt_vect_feat)):\n",
    "    name_diff[cnt_vect_feat[i]] = diff[i]\n",
    "names_diff_sorted = sorted(name_diff.items(), key = operator.itemgetter(1), reverse = True)\n",
    "for i in range(10):\n",
    "    print(names_diff_sorted[i])"
   ]
  },
  {
   "cell_type": "code",
   "execution_count": null,
   "metadata": {
    "collapsed": true
   },
   "outputs": [],
   "source": []
  },
  {
   "cell_type": "markdown",
   "metadata": {
    "collapsed": true
   },
   "source": [
    "## TF-IDF"
   ]
  },
  {
   "cell_type": "code",
   "execution_count": null,
   "metadata": {
    "collapsed": true
   },
   "outputs": [],
   "source": [
    "\n"
   ]
  },
  {
   "cell_type": "code",
   "execution_count": 39,
   "metadata": {
    "collapsed": true
   },
   "outputs": [],
   "source": [
    "#TRAINING TF-IDF VECTORIZER ON TRAIN DATA\n",
    "count_vect_tfidf_train = TfidfVectorizer(ngram_range=(1,2)) #scikit-learn countevectorizer (bi-gram)\n",
    "final_counts = count_vect_tfidf_train.fit_transform(x_train.values)"
   ]
  },
  {
   "cell_type": "code",
   "execution_count": 40,
   "metadata": {
    "collapsed": true
   },
   "outputs": [],
   "source": [
    "cnt_vect_feat = count_vect_tfidf_train.get_feature_names()"
   ]
  },
  {
   "cell_type": "code",
   "execution_count": 42,
   "metadata": {},
   "outputs": [
    {
     "data": {
      "text/plain": [
       "<254920x2294007 sparse matrix of type '<class 'numpy.float64'>'\n",
       "\twith 25680663 stored elements in Compressed Sparse Row format>"
      ]
     },
     "execution_count": 42,
     "metadata": {},
     "output_type": "execute_result"
    }
   ],
   "source": [
    "final_counts"
   ]
  },
  {
   "cell_type": "code",
   "execution_count": 44,
   "metadata": {
    "collapsed": true
   },
   "outputs": [],
   "source": [
    "#TRAINING VECTORIZER ON TEST DATA USING VECTORS OBTAINED FROM TRAIN DATA\n",
    "count_vect_tfidf_test = TfidfVectorizer(ngram_range=(1,2),vocabulary=cnt_vect_feat) #scikit-learn countevectorizer\n",
    "final_counts_test = count_vect_tfidf_test.transform(x_test.values)"
   ]
  },
  {
   "cell_type": "code",
   "execution_count": 45,
   "metadata": {},
   "outputs": [
    {
     "data": {
      "text/plain": [
       "<109251x2294007 sparse matrix of type '<class 'numpy.float64'>'\n",
       "\twith 10556699 stored elements in Compressed Sparse Row format>"
      ]
     },
     "execution_count": 45,
     "metadata": {},
     "output_type": "execute_result"
    }
   ],
   "source": [
    "final_counts_test"
   ]
  },
  {
   "cell_type": "code",
   "execution_count": null,
   "metadata": {
    "collapsed": true
   },
   "outputs": [],
   "source": []
  },
  {
   "cell_type": "code",
   "execution_count": 37,
   "metadata": {
    "collapsed": true
   },
   "outputs": [],
   "source": [
    "tscv_data = TimeSeriesSplit(n_splits=10)"
   ]
  },
  {
   "cell_type": "code",
   "execution_count": 38,
   "metadata": {
    "collapsed": true
   },
   "outputs": [],
   "source": [
    "alpha = list(np.arange(0.01,1,0.01))"
   ]
  },
  {
   "cell_type": "code",
   "execution_count": 39,
   "metadata": {
    "collapsed": true
   },
   "outputs": [],
   "source": [
    "cv_scores= []"
   ]
  },
  {
   "cell_type": "markdown",
   "metadata": {},
   "source": [
    "# BINOMIAL NAIVE BAYES"
   ]
  },
  {
   "cell_type": "code",
   "execution_count": null,
   "metadata": {
    "collapsed": true
   },
   "outputs": [],
   "source": [
    "for a in alpha:\n",
    "    clf = BernoulliNB(alpha=a)\n",
    "    cv_score_temp = []\n",
    "    #print(\"alpha:\",a)\n",
    "    for train_index, test_index in tscv_data.split(final_counts):\n",
    "        \n",
    "        #print(\"TRAIN:\", train_index, \"TEST:\", test_index)\n",
    "        X_train, X_test = final_counts[train_index], final_counts[test_index]\n",
    "        #print(X_train,\":\",X_test)\n",
    "        Y_train, Y_test = y_train.iloc[train_index], y_train.iloc[test_index]\n",
    "        clf.fit(X_train, Y_train)\n",
    "        prd = clf.predict(X_test)\n",
    "        acc = accuracy_score(Y_test, prd, normalize=True)\n",
    "        cv_score_temp.append(acc)\n",
    "        \n",
    "    tmp = np.asarray(cv_score_temp)\n",
    "    avg = np.sum(tmp)/10\n",
    "    #print(\"acc:\",avg)\n",
    "    cv_scores.append(avg)"
   ]
  },
  {
   "cell_type": "code",
   "execution_count": null,
   "metadata": {
    "collapsed": true
   },
   "outputs": [],
   "source": [
    "cv_scr_df = pd.DataFrame(cv_scores)\n",
    "cv_scr_df.to_pickle(\"cv_score_NB_tf_idf_2\")"
   ]
  },
  {
   "cell_type": "code",
   "execution_count": null,
   "metadata": {
    "collapsed": true
   },
   "outputs": [],
   "source": [
    "cv_scr_tmp = pd.read_pickle(\"cv_score_NB_tf_idf_2\")"
   ]
  },
  {
   "cell_type": "code",
   "execution_count": null,
   "metadata": {
    "collapsed": true
   },
   "outputs": [],
   "source": [
    "cv_scores = cv_scr_tmp[0].tolist()"
   ]
  },
  {
   "cell_type": "code",
   "execution_count": 50,
   "metadata": {},
   "outputs": [
    {
     "name": "stdout",
     "output_type": "stream",
     "text": [
      "\n",
      "The optimal number of neighbors is 0.010000.\n"
     ]
    },
    {
     "data": {
      "image/png": "[encoded data removed]",
      "text/plain": [
       "<matplotlib.figure.Figure at 0x1b2d18ba9b0>"
      ]
     },
     "metadata": {},
     "output_type": "display_data"
    },
    {
     "name": "stdout",
     "output_type": "stream",
     "text": [
      "the misclassification error for each alpha value is :  [0.093 0.1   0.105 0.11  0.114 0.116 0.119 0.121 0.123 0.125 0.126 0.128\n",
      " 0.129 0.13  0.131 0.132 0.133 0.135 0.136 0.136 0.137 0.138 0.139 0.139\n",
      " 0.14  0.141 0.141 0.142 0.142 0.143 0.143 0.144 0.144 0.145 0.145 0.146\n",
      " 0.146 0.146 0.146 0.147 0.147 0.147 0.148 0.148 0.148 0.149 0.149 0.149\n",
      " 0.149 0.149 0.15  0.15  0.15  0.15  0.15  0.151 0.151 0.151 0.151 0.152\n",
      " 0.152 0.152 0.152 0.152 0.152 0.152 0.152 0.153 0.153 0.153 0.153 0.153\n",
      " 0.153 0.153 0.153 0.153 0.153 0.153 0.154 0.154 0.154 0.154 0.154 0.154\n",
      " 0.154 0.154 0.154 0.154 0.154 0.154 0.154 0.154 0.154 0.154 0.154 0.154\n",
      " 0.155 0.155 0.155]\n"
     ]
    }
   ],
   "source": [
    "#Misclassification error for each alpha\n",
    "MSE = [1 - x for x in cv_scores]\n",
    "\n",
    "#find optimal alpha for which misclassification error is low\n",
    "optimal_alpha = alpha[MSE.index(min(MSE))]\n",
    "print('\\nThe optimal number of neighbors is %f.' % optimal_alpha)\n",
    "\n",
    "\n",
    "plt.plot(alpha, MSE)\n",
    "\n",
    "for xy in zip(alpha, np.round(MSE,3)):\n",
    "    plt.annotate('(%s, %s)' % xy, xy=xy, textcoords='data')\n",
    "\n",
    "plt.xlabel('Number of alpha a')\n",
    "plt.ylabel('Misclassification Error')\n",
    "plt.show()\n",
    "\n",
    "print(\"the misclassification error for each alpha value is : \", np.round(MSE,3))"
   ]
  },
  {
   "cell_type": "code",
   "execution_count": 60,
   "metadata": {
    "collapsed": true
   },
   "outputs": [],
   "source": [
    "# ------------ Naive Bayes with optimal ALPHA--------------###\n",
    "optimal_nb = BernoulliNB(alpha=optimal_alpha)\n",
    "lp = optimal_nb.fit(final_counts, y_train)\n",
    "prd = optimal_nb.predict(final_counts_test)"
   ]
  },
  {
   "cell_type": "code",
   "execution_count": 62,
   "metadata": {},
   "outputs": [
    {
     "name": "stdout",
     "output_type": "stream",
     "text": [
      "\n",
      "The accuracy of the Binomial Naive Bayes is: 91.46460901959708\n"
     ]
    }
   ],
   "source": [
    "acc = accuracy_score(y_test, prd) * 100\n",
    "print('\\nThe accuracy of the Binomial Naive Bayes is:' , acc)"
   ]
  },
  {
   "cell_type": "code",
   "execution_count": 50,
   "metadata": {},
   "outputs": [
    {
     "name": "stdout",
     "output_type": "stream",
     "text": [
      "             precision    recall  f1-score   support\n",
      "\n",
      "   negative       0.86      0.61      0.71     19081\n",
      "   positive       0.92      0.98      0.95     90170\n",
      "\n",
      "avg / total       0.91      0.91      0.91    109251\n",
      "\n"
     ]
    }
   ],
   "source": [
    "print(classification_report(y_test,prd))"
   ]
  },
  {
   "cell_type": "markdown",
   "metadata": {},
   "source": [
    " <b>Confusion Matrix</b>"
   ]
  },
  {
   "cell_type": "code",
   "execution_count": 51,
   "metadata": {
    "collapsed": true
   },
   "outputs": [],
   "source": [
    "#y_test_np= np.asarray(y_test)\n",
    "mat = confusion_matrix(y_test,prd)\n",
    "tn, fp, fn, tp = confusion_matrix(y_test,prd).ravel()"
   ]
  },
  {
   "cell_type": "code",
   "execution_count": 52,
   "metadata": {},
   "outputs": [
    {
     "data": {
      "image/png": "[encoded data removed]",
      "text/plain": [
       "<matplotlib.figure.Figure at 0x22f1c4954e0>"
      ]
     },
     "metadata": {},
     "output_type": "display_data"
    }
   ],
   "source": [
    "sns.heatmap(mat.T, square=True, annot=True, fmt='d', cbar=True,cmap='RdYlBu_r',\n",
    "            xticklabels=['negative','positive'], yticklabels=['negative','positive'])\n",
    "plt.title(\"confusion Matrix\")\n",
    "plt.xlabel('true label')\n",
    "plt.ylabel('predicted label');"
   ]
  },
  {
   "cell_type": "code",
   "execution_count": 54,
   "metadata": {},
   "outputs": [
    {
     "name": "stdout",
     "output_type": "stream",
     "text": [
      "True positive rate: 92.15990988641934\n",
      "False positive rate: 7.840090113580659\n",
      "True negative rate: 86.47921029015853\n",
      "False negative rate: 13.520789709841461\n"
     ]
    }
   ],
   "source": [
    "print(\"True positive rate:\",(tp/(tp+fp))*100)\n",
    "print(\"False positive rate:\",(fp/(tp+fp))*100)\n",
    "print(\"True negative rate:\",(tn/(tn+fn))*100)\n",
    "print(\"False negative rate:\",(fn/(tn+fn))*100)"
   ]
  },
  {
   "cell_type": "markdown",
   "metadata": {},
   "source": [
    "## <b> List of top 10 words that are differ in positive and negative reviews."
   ]
  },
  {
   "cell_type": "markdown",
   "metadata": {},
   "source": [
    "1. Words which separate Positive reviews from negative reviews"
   ]
  },
  {
   "cell_type": "code",
   "execution_count": 55,
   "metadata": {},
   "outputs": [
    {
     "name": "stdout",
     "output_type": "stream",
     "text": [
      "('try youll', 8.780353739480454)\n",
      "('only negative', 8.59100504340498)\n",
      "('only drawback', 8.561251766047736)\n",
      "('go great', 8.534040128203003)\n",
      "('become favorite', 8.187183481494863)\n",
      "('more soon', 8.187183481494863)\n",
      "('rebecca review', 8.126866724092494)\n",
      "('definitely ordering', 8.111201425412819)\n",
      "('recommend highly', 8.084534600729889)\n",
      "('thanks much', 8.04596445154772)\n"
     ]
    }
   ],
   "source": [
    "import operator\n",
    "diff = optimal_nb.feature_log_prob_[1,:] - optimal_nb.feature_log_prob_[0,:]\n",
    "name_diff = {}\n",
    "for i in range(len(cnt_vect_feat)):\n",
    "    name_diff[cnt_vect_feat[i]] = diff[i]\n",
    "names_diff_sorted = sorted(name_diff.items(), key = operator.itemgetter(1), reverse = True)\n",
    "for i in range(10):\n",
    "    print(names_diff_sorted[i])"
   ]
  },
  {
   "cell_type": "markdown",
   "metadata": {},
   "source": [
    "2. Words helps to separate Negative reviews from Positive reviews\n"
   ]
  },
  {
   "cell_type": "code",
   "execution_count": 56,
   "metadata": {},
   "outputs": [
    {
     "name": "stdout",
     "output_type": "stream",
     "text": [
      "('have listened', 9.872870247936907)\n",
      "('stuff terrible', 9.747746308370079)\n",
      "('terrible product', 9.67877723818982)\n",
      "('again nor', 9.604696728378364)\n",
      "('negative star', 9.604696728378364)\n",
      "('worst product', 9.604696728378364)\n",
      "('stuff awful', 9.565491393807331)\n",
      "('this disgusting', 9.524686059150966)\n",
      "('worst one', 9.391214163774713)\n",
      "('refund this', 9.342447797513445)\n"
     ]
    }
   ],
   "source": [
    "import operator\n",
    "diff = optimal_nb.feature_log_prob_[0,:] - optimal_nb.feature_log_prob_[1,:]\n",
    "name_diff = {}\n",
    "for i in range(len(cnt_vect_feat)):\n",
    "    name_diff[cnt_vect_feat[i]] = diff[i]\n",
    "names_diff_sorted = sorted(name_diff.items(), key = operator.itemgetter(1), reverse = True)\n",
    "for i in range(10):\n",
    "    print(names_diff_sorted[i])"
   ]
  },
  {
   "cell_type": "markdown",
   "metadata": {},
   "source": [
    "# MULTINOMIAL NAIVE BAYES"
   ]
  },
  {
   "cell_type": "code",
   "execution_count": null,
   "metadata": {
    "collapsed": true
   },
   "outputs": [],
   "source": [
    "for a in alpha:\n",
    "    clf = MultinomialNB(alpha=a)\n",
    "    cv_score_temp = []\n",
    "    #print(\"alpha:\",a)\n",
    "    for train_index, test_index in tscv_data.split(final_counts):\n",
    "        \n",
    "        #print(\"TRAIN:\", train_index, \"TEST:\", test_index)\n",
    "        X_train, X_test = final_counts[train_index], final_counts[test_index]\n",
    "        #print(X_train,\":\",X_test)\n",
    "        Y_train, Y_test = y_train.iloc[train_index], y_train.iloc[test_index]\n",
    "        clf.fit(X_train, Y_train)\n",
    "        prd = clf.predict(X_test)\n",
    "        acc = accuracy_score(Y_test, prd, normalize=True)\n",
    "        cv_score_temp.append(acc)\n",
    "        \n",
    "    tmp = np.asarray(cv_score_temp)\n",
    "    avg = np.sum(tmp)/10\n",
    "    #print(\"acc:\",avg)\n",
    "    cv_scores.append(avg)"
   ]
  },
  {
   "cell_type": "code",
   "execution_count": null,
   "metadata": {
    "collapsed": true
   },
   "outputs": [],
   "source": [
    "cv_scr_df = pd.DataFrame(cv_scores)\n",
    "cv_scr_df.to_pickle(\"cv_score_NB_tf_idf_2\")"
   ]
  },
  {
   "cell_type": "code",
   "execution_count": 41,
   "metadata": {
    "collapsed": true
   },
   "outputs": [],
   "source": [
    "cv_scr_tmp = pd.read_pickle(\"cv_score_NB_tfidf\")"
   ]
  },
  {
   "cell_type": "code",
   "execution_count": 42,
   "metadata": {
    "collapsed": true
   },
   "outputs": [],
   "source": [
    "cv_scores = cv_scr_tmp[0].tolist()"
   ]
  },
  {
   "cell_type": "code",
   "execution_count": 43,
   "metadata": {},
   "outputs": [
    {
     "name": "stdout",
     "output_type": "stream",
     "text": [
      "\n",
      "The optimal number of neighbors is 0.010000.\n"
     ]
    },
    {
     "data": {
      "image/png": "[encoded data removed]",
      "text/plain": [
       "<matplotlib.figure.Figure at 0x28ddc4943c8>"
      ]
     },
     "metadata": {},
     "output_type": "display_data"
    },
    {
     "name": "stdout",
     "output_type": "stream",
     "text": [
      "the misclassification error for each alpha value is :  [0.115 0.116 0.117 0.118 0.118 0.118 0.119 0.119 0.119 0.12  0.12  0.12\n",
      " 0.121 0.121 0.121 0.122 0.122 0.122 0.122 0.122 0.123 0.123 0.123 0.123\n",
      " 0.123 0.124 0.124 0.124 0.124 0.125 0.125 0.125 0.125 0.125 0.126 0.126\n",
      " 0.126 0.126 0.126 0.126 0.127 0.127 0.127 0.127 0.127 0.127 0.127 0.127\n",
      " 0.128 0.128 0.128 0.128 0.128 0.128 0.128 0.128 0.129 0.129 0.129 0.129\n",
      " 0.129 0.129 0.13  0.13  0.13  0.13  0.13  0.13  0.13  0.13  0.131 0.131\n",
      " 0.131 0.131 0.131 0.131 0.131 0.131 0.131 0.131 0.131 0.132 0.132 0.132\n",
      " 0.132 0.132 0.132 0.132 0.132 0.132 0.132 0.133 0.133 0.133 0.133 0.133\n",
      " 0.133 0.133 0.133]\n"
     ]
    }
   ],
   "source": [
    "#Misclassification error for each alpha\n",
    "MSE = [1 - x for x in cv_scores]\n",
    "\n",
    "#find optimal alpha for which misclassification error is low\n",
    "optimal_alpha = alpha[MSE.index(min(MSE))]\n",
    "print('\\nThe optimal number of neighbors is %f.' % optimal_alpha)\n",
    "\n",
    "\n",
    "plt.plot(alpha, MSE)\n",
    "\n",
    "for xy in zip(alpha, np.round(MSE,3)):\n",
    "    plt.annotate('(%s, %s)' % xy, xy=xy, textcoords='data')\n",
    "\n",
    "plt.xlabel('Number of alpha a')\n",
    "plt.ylabel('Misclassification Error')\n",
    "plt.show()\n",
    "\n",
    "print(\"the misclassification error for each alpha value is : \", np.round(MSE,3))"
   ]
  },
  {
   "cell_type": "code",
   "execution_count": 45,
   "metadata": {
    "collapsed": true
   },
   "outputs": [],
   "source": [
    "# ------------ Naive Bayes with optimal ALPHA--------------###\n",
    "optimal_nb = MultinomialNB(alpha=0.01)\n",
    "lp = optimal_nb.fit(final_counts, y_train)\n",
    "prd = optimal_nb.predict(final_counts_test)"
   ]
  },
  {
   "cell_type": "code",
   "execution_count": 46,
   "metadata": {},
   "outputs": [
    {
     "name": "stdout",
     "output_type": "stream",
     "text": [
      "\n",
      "The accuracy of the Binomial Naive Bayes is: 90.77170918343997\n"
     ]
    }
   ],
   "source": [
    "acc = accuracy_score(y_test, prd) * 100\n",
    "print('\\nThe accuracy of the Binomial Naive Bayes is:' , acc)"
   ]
  },
  {
   "cell_type": "code",
   "execution_count": 47,
   "metadata": {},
   "outputs": [
    {
     "name": "stdout",
     "output_type": "stream",
     "text": [
      "             precision    recall  f1-score   support\n",
      "\n",
      "   negative       0.91      0.52      0.66     19081\n",
      "   positive       0.91      0.99      0.95     90170\n",
      "\n",
      "avg / total       0.91      0.91      0.90    109251\n",
      "\n"
     ]
    }
   ],
   "source": [
    "print(classification_report(y_test,prd))"
   ]
  },
  {
   "cell_type": "markdown",
   "metadata": {},
   "source": [
    "<b> CONFUSION MATRIX </b>"
   ]
  },
  {
   "cell_type": "code",
   "execution_count": 48,
   "metadata": {
    "collapsed": true
   },
   "outputs": [],
   "source": [
    "#y_test_np= np.asarray(y_test)\n",
    "mat = confusion_matrix(y_test,prd)\n",
    "tn, fp, fn, tp = confusion_matrix(y_test,prd).ravel()"
   ]
  },
  {
   "cell_type": "code",
   "execution_count": 49,
   "metadata": {},
   "outputs": [
    {
     "data": {
      "image/png": "[encoded data removed]",
      "text/plain": [
       "<matplotlib.figure.Figure at 0x28e129ad2e8>"
      ]
     },
     "metadata": {},
     "output_type": "display_data"
    }
   ],
   "source": [
    "sns.heatmap(mat.T, square=True, annot=True, fmt='d', cbar=True,cmap='RdYlBu_r',\n",
    "            xticklabels=['negative','positive'], yticklabels=['negative','positive'])\n",
    "plt.title(\"confusion Matrix\")\n",
    "plt.xlabel('true label')\n",
    "plt.ylabel('predicted label');"
   ]
  },
  {
   "cell_type": "code",
   "execution_count": 50,
   "metadata": {},
   "outputs": [
    {
     "name": "stdout",
     "output_type": "stream",
     "text": [
      "True positive rate: 90.74149438385155\n",
      "False positive rate: 9.258505616148462\n",
      "True negative rate: 91.04259782906139\n",
      "False negative rate: 8.957402170938613\n"
     ]
    }
   ],
   "source": [
    "print(\"True positive rate:\",(tp/(tp+fp))*100)\n",
    "print(\"False positive rate:\",(fp/(tp+fp))*100)\n",
    "print(\"True negative rate:\",(tn/(tn+fn))*100)\n",
    "print(\"False negative rate:\",(fn/(tn+fn))*100)"
   ]
  },
  {
   "cell_type": "markdown",
   "metadata": {},
   "source": [
    "#  <b> List of top 10 words that are differ in positive and negative reviews."
   ]
  },
  {
   "cell_type": "markdown",
   "metadata": {},
   "source": [
    "1. Words which separate Positive reviews from negative reviews"
   ]
  },
  {
   "cell_type": "code",
   "execution_count": 51,
   "metadata": {},
   "outputs": [
    {
     "name": "stdout",
     "output_type": "stream",
     "text": [
      "('try youll', 6.663824912544822)\n",
      "('go great', 6.446543802379443)\n",
      "('only drawback', 6.34060557457485)\n",
      "('more soon', 6.294855768382337)\n",
      "('only negative', 6.279167119959832)\n",
      "('thanks much', 6.225102191691612)\n",
      "('become favorite', 6.174423217686163)\n",
      "('recommend highly', 6.108091055514668)\n",
      "('definitely ordering', 6.100975554136969)\n",
      "('exactly described', 6.059583056533089)\n"
     ]
    }
   ],
   "source": [
    "import operator\n",
    "diff = optimal_nb.feature_log_prob_[1,:] - optimal_nb.feature_log_prob_[0,:]\n",
    "name_diff = {}\n",
    "for i in range(len(cnt_vect_feat)):\n",
    "    name_diff[cnt_vect_feat[i]] = diff[i]\n",
    "names_diff_sorted = sorted(name_diff.items(), key = operator.itemgetter(1), reverse = True)\n",
    "for i in range(10):\n",
    "    print(names_diff_sorted[i])"
   ]
  },
  {
   "cell_type": "markdown",
   "metadata": {},
   "source": [
    "2. Words helps to separate Negative reviews from Positive reviews\n"
   ]
  },
  {
   "cell_type": "code",
   "execution_count": 53,
   "metadata": {},
   "outputs": [
    {
     "name": "stdout",
     "output_type": "stream",
     "text": [
      "('stuff terrible', 7.789310430148895)\n",
      "('have listened', 7.695423342532953)\n",
      "('terrible product', 7.642510106221799)\n",
      "('worst product', 7.514986101233827)\n",
      "('stuff awful', 7.473828494625561)\n",
      "('again nor', 7.421308074246742)\n",
      "('were moldy', 7.391186451833828)\n",
      "('negative star', 7.362007238938654)\n",
      "('seemed stale', 7.340618931940625)\n",
      "('this disgusting', 7.324093425568261)\n"
     ]
    }
   ],
   "source": [
    "import operator\n",
    "diff = optimal_nb.feature_log_prob_[0,:] - optimal_nb.feature_log_prob_[1,:]\n",
    "name_diff = {}\n",
    "for i in range(len(cnt_vect_feat)):\n",
    "    name_diff[cnt_vect_feat[i]] = diff[i]\n",
    "names_diff_sorted = sorted(name_diff.items(), key = operator.itemgetter(1), reverse = True)\n",
    "for i in range(10):\n",
    "    print(names_diff_sorted[i])"
   ]
  },
  {
   "cell_type": "code",
   "execution_count": null,
   "metadata": {
    "collapsed": true
   },
   "outputs": [],
   "source": []
  },
  {
   "cell_type": "code",
   "execution_count": null,
   "metadata": {
    "collapsed": true
   },
   "outputs": [],
   "source": []
  },
  {
   "cell_type": "markdown",
   "metadata": {},
   "source": [
    "# Conclusion:\n",
    "\n",
    "    1.Binomial Naive Bayes works slightly better than Multinomial Naive Bayes as we got 91.46% accuracy with binomial     Naive Bayes. \n",
    "    2.We got avergae f1 score of 91% which is fairly well.\n",
    "    3.We got same accuracy with both vectorizers Bag Of Words and Tf-IDF because Naive Bayes is counting based technique and calcukates likelihood probability of each point rather base don their appearance in the training.\n",
    "    4.We got a considerably good TRUE POSITIVE RATE, FALSE POSITIVE RATE, TRUE NEGATIVE RATE AND FALSE NEGATIVE RATE in         Multinomial Naive Bayes on TF-IDF."
   ]
  },
  {
   "cell_type": "code",
   "execution_count": null,
   "metadata": {
    "collapsed": true
   },
   "outputs": [],
   "source": []
  }
 ],
 "metadata": {
  "kernelspec": {
   "display_name": "Python 3",
   "language": "python",
   "name": "python3"
  },
  "language_info": {
   "codemirror_mode": {
    "name": "ipython",
    "version": 3
   },
   "file_extension": ".py",
   "mimetype": "text/x-python",
   "name": "python",
   "nbconvert_exporter": "python",
   "pygments_lexer": "ipython3",
   "version": "3.6.3"
  }
 },
 "nbformat": 4,
 "nbformat_minor": 2
}
